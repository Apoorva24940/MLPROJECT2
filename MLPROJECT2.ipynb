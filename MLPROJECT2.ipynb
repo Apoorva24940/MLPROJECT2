{
 "cells": [
  {
   "cell_type": "markdown",
   "id": "ca9c95da-9a14-4eff-ab5b-8b1a3fcf0f34",
   "metadata": {},
   "source": [
    "So, For this Project I have taken two csv files housing and churn. Housing.csv for regression and Churn-bigml-20 for classification. I have downloaded these two datsets from kaggle. Lets get to the code step by step"
   ]
  },
  {
   "cell_type": "code",
   "execution_count": 1,
   "id": "b7dc2554-bed8-43e4-b914-6eccf3198c2f",
   "metadata": {},
   "outputs": [],
   "source": [
    "# Step 1: Import necessary libraries\n",
    "import pandas as pd\n",
    "import numpy as np\n",
    "from sklearn.model_selection import train_test_split\n",
    "from sklearn.linear_model import LinearRegression, LogisticRegression\n",
    "from sklearn.tree import DecisionTreeRegressor, DecisionTreeClassifier\n",
    "from sklearn.svm import SVC\n",
    "from sklearn.metrics import mean_squared_error, r2_score, accuracy_score, confusion_matrix, classification_report\n",
    "import seaborn as sns\n",
    "import matplotlib.pyplot as plt\n",
    "\n"
   ]
  },
  {
   "cell_type": "markdown",
   "id": "6c5b44f8-2ba4-4fa5-af57-706e94790bad",
   "metadata": {},
   "source": [
    "# Section 1: Load and Inspect the data"
   ]
  },
  {
   "cell_type": "code",
   "execution_count": 7,
   "id": "576d20e8-139f-432d-92bc-a7a86dd41b5b",
   "metadata": {},
   "outputs": [
    {
     "name": "stdout",
     "output_type": "stream",
     "text": [
      "Housing Data Information:\n",
      "<class 'pandas.core.frame.DataFrame'>\n",
      "RangeIndex: 545 entries, 0 to 544\n",
      "Data columns (total 13 columns):\n",
      " #   Column            Non-Null Count  Dtype \n",
      "---  ------            --------------  ----- \n",
      " 0   price             545 non-null    int64 \n",
      " 1   area              545 non-null    int64 \n",
      " 2   bedrooms          545 non-null    int64 \n",
      " 3   bathrooms         545 non-null    int64 \n",
      " 4   stories           545 non-null    int64 \n",
      " 5   mainroad          545 non-null    object\n",
      " 6   guestroom         545 non-null    object\n",
      " 7   basement          545 non-null    object\n",
      " 8   hotwaterheating   545 non-null    object\n",
      " 9   airconditioning   545 non-null    object\n",
      " 10  parking           545 non-null    int64 \n",
      " 11  prefarea          545 non-null    object\n",
      " 12  furnishingstatus  545 non-null    object\n",
      "dtypes: int64(6), object(7)\n",
      "memory usage: 55.5+ KB\n",
      "None\n",
      "              price          area    bedrooms   bathrooms     stories  \\\n",
      "count  5.450000e+02    545.000000  545.000000  545.000000  545.000000   \n",
      "mean   4.766729e+06   5150.541284    2.965138    1.286239    1.805505   \n",
      "std    1.870440e+06   2170.141023    0.738064    0.502470    0.867492   \n",
      "min    1.750000e+06   1650.000000    1.000000    1.000000    1.000000   \n",
      "25%    3.430000e+06   3600.000000    2.000000    1.000000    1.000000   \n",
      "50%    4.340000e+06   4600.000000    3.000000    1.000000    2.000000   \n",
      "75%    5.740000e+06   6360.000000    3.000000    2.000000    2.000000   \n",
      "max    1.330000e+07  16200.000000    6.000000    4.000000    4.000000   \n",
      "\n",
      "          parking  \n",
      "count  545.000000  \n",
      "mean     0.693578  \n",
      "std      0.861586  \n",
      "min      0.000000  \n",
      "25%      0.000000  \n",
      "50%      0.000000  \n",
      "75%      1.000000  \n",
      "max      3.000000  \n",
      "\n",
      "Churn Data Information:\n",
      "<class 'pandas.core.frame.DataFrame'>\n",
      "RangeIndex: 667 entries, 0 to 666\n",
      "Data columns (total 20 columns):\n",
      " #   Column                  Non-Null Count  Dtype  \n",
      "---  ------                  --------------  -----  \n",
      " 0   State                   667 non-null    object \n",
      " 1   Account length          667 non-null    int64  \n",
      " 2   Area code               667 non-null    int64  \n",
      " 3   International plan      667 non-null    object \n",
      " 4   Voice mail plan         667 non-null    object \n",
      " 5   Number vmail messages   667 non-null    int64  \n",
      " 6   Total day minutes       667 non-null    float64\n",
      " 7   Total day calls         667 non-null    int64  \n",
      " 8   Total day charge        667 non-null    float64\n",
      " 9   Total eve minutes       667 non-null    float64\n",
      " 10  Total eve calls         667 non-null    int64  \n",
      " 11  Total eve charge        667 non-null    float64\n",
      " 12  Total night minutes     667 non-null    float64\n",
      " 13  Total night calls       667 non-null    int64  \n",
      " 14  Total night charge      667 non-null    float64\n",
      " 15  Total intl minutes      667 non-null    float64\n",
      " 16  Total intl calls        667 non-null    int64  \n",
      " 17  Total intl charge       667 non-null    float64\n",
      " 18  Customer service calls  667 non-null    int64  \n",
      " 19  Churn                   667 non-null    bool   \n",
      "dtypes: bool(1), float64(8), int64(8), object(3)\n",
      "memory usage: 99.8+ KB\n",
      "None\n",
      "       Account length   Area code  Number vmail messages  Total day minutes  \\\n",
      "count      667.000000  667.000000             667.000000         667.000000   \n",
      "mean       102.841079  436.157421               8.407796         180.948126   \n",
      "std         40.819480   41.783305              13.994480          55.508628   \n",
      "min          1.000000  408.000000               0.000000          25.900000   \n",
      "25%         76.000000  408.000000               0.000000         146.250000   \n",
      "50%        102.000000  415.000000               0.000000         178.300000   \n",
      "75%        128.000000  415.000000              20.000000         220.700000   \n",
      "max        232.000000  510.000000              51.000000         334.300000   \n",
      "\n",
      "       Total day calls  Total day charge  Total eve minutes  Total eve calls  \\\n",
      "count       667.000000        667.000000         667.000000       667.000000   \n",
      "mean        100.937031         30.761769         203.355322       100.476762   \n",
      "std          20.396790          9.436463          49.719268        18.948262   \n",
      "min          30.000000          4.400000          48.100000        37.000000   \n",
      "25%          87.500000         24.860000         171.050000        88.000000   \n",
      "50%         101.000000         30.310000         203.700000       101.000000   \n",
      "75%         115.000000         37.520000         236.450000       113.000000   \n",
      "max         165.000000         56.830000         361.800000       168.000000   \n",
      "\n",
      "       Total eve charge  Total night minutes  Total night calls  \\\n",
      "count        667.000000           667.000000         667.000000   \n",
      "mean          17.285262           199.685307         100.113943   \n",
      "std            4.226160            49.759931          20.172505   \n",
      "min            4.090000            23.200000          42.000000   \n",
      "25%           14.540000           167.950000          86.000000   \n",
      "50%           17.310000           201.600000         100.000000   \n",
      "75%           20.095000           231.500000         113.500000   \n",
      "max           30.750000           367.700000         175.000000   \n",
      "\n",
      "       Total night charge  Total intl minutes  Total intl calls  \\\n",
      "count          667.000000          667.000000        667.000000   \n",
      "mean             8.985907           10.238381          4.527736   \n",
      "std              2.239429            2.807850          2.482442   \n",
      "min              1.040000            0.000000          0.000000   \n",
      "25%              7.560000            8.600000          3.000000   \n",
      "50%              9.070000           10.500000          4.000000   \n",
      "75%             10.420000           12.050000          6.000000   \n",
      "max             16.550000           18.300000         18.000000   \n",
      "\n",
      "       Total intl charge  Customer service calls  \n",
      "count         667.000000              667.000000  \n",
      "mean            2.764948                1.563718  \n",
      "std             0.758167                1.333357  \n",
      "min             0.000000                0.000000  \n",
      "25%             2.320000                1.000000  \n",
      "50%             2.840000                1.000000  \n",
      "75%             3.255000                2.000000  \n",
      "max             4.940000                8.000000  \n"
     ]
    }
   ],
   "source": [
    "# Load both datasets\n",
    "housing_data = pd.read_csv(\"C:\\\\Users\\\\apoor\\\\Downloads\\\\archive (2)\\\\Housing.csv\")\n",
    "churn_data = pd.read_csv(\"C:\\\\Users\\\\apoor\\\\Downloads\\\\archive (3)\\\\churn-bigml-20.csv\")\n",
    "\n",
    "# Display basic info to understand the structure\n",
    "print(\"Housing Data Information:\")\n",
    "print(housing_data.info())\n",
    "print(housing_data.describe())\n",
    "\n",
    "print(\"\\nChurn Data Information:\")\n",
    "print(churn_data.info())\n",
    "print(churn_data.describe())\n"
   ]
  },
  {
   "cell_type": "markdown",
   "id": "619effc1-b181-4e5a-b2b3-ae4eb280ece7",
   "metadata": {},
   "source": [
    "# 1: Data Preprocessing"
   ]
  },
  {
   "cell_type": "markdown",
   "id": "c7eeb2ee-0c54-4a2e-8f9a-7d5eed95120a",
   "metadata": {},
   "source": [
    "# For regression(Housing data)"
   ]
  },
  {
   "cell_type": "code",
   "execution_count": 11,
   "id": "5fe57c32-cd5e-4d9d-a4ad-d78db94a19f9",
   "metadata": {},
   "outputs": [],
   "source": [
    "# Check for and handle missing values\n",
    "housing_data = housing_data.dropna()  # or fill missing values if applicable\n",
    "\n",
    "# Encode categorical features if necessary\n",
    "housing_data = pd.get_dummies(housing_data, drop_first=True)\n",
    "\n",
    "# Define features and target variable\n",
    "X_housing = housing_data.drop(columns=['price'])\n",
    "y_housing = housing_data['price']\n"
   ]
  },
  {
   "cell_type": "markdown",
   "id": "27f13705-6798-4898-a482-e76173ee065a",
   "metadata": {},
   "source": [
    "# For classification(Churn data)"
   ]
  },
  {
   "cell_type": "code",
   "execution_count": 15,
   "id": "16c255d3-3a0a-4879-aef5-694c57e9943c",
   "metadata": {},
   "outputs": [],
   "source": [
    "# Check for and handle missing values\n",
    "churn_data = churn_data.dropna()\n",
    "\n",
    "# Encode categorical features\n",
    "churn_data = pd.get_dummies(churn_data, drop_first=True)\n",
    "\n",
    "# Define features and target variable\n",
    "X_churn = churn_data.drop(columns=['Churn']) \n",
    "y_churn = churn_data['Churn']\n"
   ]
  },
  {
   "cell_type": "markdown",
   "id": "955b5f32-4bea-4e56-9267-33ca4bc15b46",
   "metadata": {},
   "source": [
    "# 2: Train-Test Split"
   ]
  },
  {
   "cell_type": "code",
   "execution_count": 17,
   "id": "f0bcb8b9-3bf0-437b-a649-f957474c9789",
   "metadata": {},
   "outputs": [],
   "source": [
    "# Regression data split\n",
    "X_train_housing, X_test_housing, y_train_housing, y_test_housing = train_test_split(\n",
    "    X_housing, y_housing, test_size=0.2, random_state=42)\n",
    "\n",
    "# Classification data split\n",
    "X_train_churn, X_test_churn, y_train_churn, y_test_churn = train_test_split(\n",
    "    X_churn, y_churn, test_size=0.2, random_state=42)\n"
   ]
  },
  {
   "cell_type": "markdown",
   "id": "9a9165f9-6321-4973-a20e-3f77b053895a",
   "metadata": {},
   "source": [
    "# 3. Model Implementation"
   ]
  },
  {
   "cell_type": "markdown",
   "id": "2e3c747b-3268-4acd-99dd-5dfde4deddb3",
   "metadata": {},
   "source": [
    " For regression Model "
   ]
  },
  {
   "cell_type": "code",
   "execution_count": 19,
   "id": "21b1a038-7308-4883-be92-6ece70e8f8b1",
   "metadata": {},
   "outputs": [],
   "source": [
    "# Linear Regression\n",
    "linear_regressor = LinearRegression()\n",
    "linear_regressor.fit(X_train_housing, y_train_housing)\n",
    "y_pred_lr = linear_regressor.predict(X_test_housing)\n",
    "\n",
    "# Decision Tree Regression\n",
    "tree_regressor = DecisionTreeRegressor(random_state=42)\n",
    "tree_regressor.fit(X_train_housing, y_train_housing)\n",
    "y_pred_tree = tree_regressor.predict(X_test_housing)\n"
   ]
  },
  {
   "cell_type": "markdown",
   "id": "fc305503-e3d0-40ec-917f-a87b0ee22218",
   "metadata": {},
   "source": [
    "For Classification Model "
   ]
  },
  {
   "cell_type": "code",
   "execution_count": 23,
   "id": "3f996790-5c42-47d2-ab59-d3f753956da2",
   "metadata": {},
   "outputs": [],
   "source": [
    "from sklearn.linear_model import LogisticRegression\n",
    "from sklearn.svm import SVC\n",
    "from sklearn.preprocessing import StandardScaler\n",
    "from sklearn.pipeline import make_pipeline\n",
    "\n",
    "# Scale the data for SVM and Logistic Regression\n",
    "# Create a pipeline for Logistic Regression\n",
    "logistic_model = make_pipeline(StandardScaler(), LogisticRegression(max_iter=1000))\n",
    "\n",
    "# Fit the logistic model\n",
    "logistic_model.fit(X_train_churn, y_train_churn)\n",
    "\n",
    "# Predict using logistic regression\n",
    "y_pred_logistic = logistic_model.predict(X_test_churn)\n",
    "\n",
    "# Create a pipeline for Support Vector Machine\n",
    "svm_model = make_pipeline(StandardScaler(), SVC())\n",
    "\n",
    "# Fit the SVM model\n",
    "svm_model.fit(X_train_churn, y_train_churn)\n",
    "\n",
    "# Predict using SVM\n",
    "y_pred_svm = svm_model.predict(X_test_churn)\n",
    "\n"
   ]
  },
  {
   "cell_type": "markdown",
   "id": "d60b0366-cb0d-44ac-8b06-f05ac3cfab6c",
   "metadata": {},
   "source": [
    "# 4. Model Evaluation "
   ]
  },
  {
   "cell_type": "code",
   "execution_count": null,
   "id": "c881d523-66a0-4d56-a4e9-9b1b74849ce7",
   "metadata": {},
   "outputs": [],
   "source": [
    "For regression Model"
   ]
  },
  {
   "cell_type": "code",
   "execution_count": 25,
   "id": "11e9a03d-3d83-4e34-9556-10040a809183",
   "metadata": {},
   "outputs": [
    {
     "name": "stdout",
     "output_type": "stream",
     "text": [
      "Linear Regression Metrics:\n",
      "MSE: 1754318687330.6643\n",
      "R2 Score: 0.6529242642153184\n",
      "\n",
      "Decision Tree Regression Metrics:\n",
      "MSE: 2642802637614.6787\n",
      "R2 Score: 0.4771459275854347\n"
     ]
    }
   ],
   "source": [
    "# Linear Regression Evaluation\n",
    "print(\"Linear Regression Metrics:\")\n",
    "print(\"MSE:\", mean_squared_error(y_test_housing, y_pred_lr))\n",
    "print(\"R2 Score:\", r2_score(y_test_housing, y_pred_lr))\n",
    "\n",
    "# Decision Tree Regression Evaluation\n",
    "print(\"\\nDecision Tree Regression Metrics:\")\n",
    "print(\"MSE:\", mean_squared_error(y_test_housing, y_pred_tree))\n",
    "print(\"R2 Score:\", r2_score(y_test_housing, y_pred_tree))\n"
   ]
  },
  {
   "cell_type": "markdown",
   "id": "f560c06c-cc23-4a25-beb9-27198646f690",
   "metadata": {},
   "source": [
    "For Classification Model "
   ]
  },
  {
   "cell_type": "code",
   "execution_count": 41,
   "id": "1fb3050c-450e-47d4-8a91-ab27f71ec2fb",
   "metadata": {},
   "outputs": [
    {
     "name": "stdout",
     "output_type": "stream",
     "text": [
      "Logistic Regression Metrics:\n",
      "Accuracy: 0.8731343283582089\n",
      "Confusion Matrix:\n",
      " [[110   9]\n",
      " [  8   7]]\n",
      "Classification Report:\n",
      "               precision    recall  f1-score   support\n",
      "\n",
      "       False       0.93      0.92      0.93       119\n",
      "        True       0.44      0.47      0.45        15\n",
      "\n",
      "    accuracy                           0.87       134\n",
      "   macro avg       0.68      0.70      0.69       134\n",
      "weighted avg       0.88      0.87      0.87       134\n",
      "\n"
     ]
    }
   ],
   "source": [
    "from sklearn.linear_model import LogisticRegression\n",
    "from sklearn.preprocessing import StandardScaler\n",
    "from sklearn.pipeline import make_pipeline\n",
    "from imblearn.over_sampling import SMOTE\n",
    "from sklearn.metrics import accuracy_score, confusion_matrix, classification_report\n",
    "\n",
    "# Resample using SMOTE\n",
    "smote = SMOTE(random_state=42)\n",
    "X_resampled, y_resampled = smote.fit_resample(X_train_churn, y_train_churn)\n",
    "\n",
    "# Create a pipeline with scaling and Logistic Regression\n",
    "logistic_model = make_pipeline(StandardScaler(), LogisticRegression(max_iter=2000, class_weight='balanced'))\n",
    "logistic_model.fit(X_resampled, y_resampled)\n",
    "y_pred_logistic = logistic_model.predict(X_test_churn)\n",
    "\n",
    "# Evaluation\n",
    "print(\"Logistic Regression Metrics:\")\n",
    "print(\"Accuracy:\", accuracy_score(y_test_churn, y_pred_logistic))\n",
    "print(\"Confusion Matrix:\\n\", confusion_matrix(y_test_churn, y_pred_logistic))\n",
    "print(\"Classification Report:\\n\", classification_report(y_test_churn, y_pred_logistic, zero_division=0))\n"
   ]
  },
  {
   "cell_type": "markdown",
   "id": "012ea002-bdeb-473a-8227-a567170e48cb",
   "metadata": {},
   "source": [
    "# 5. Visualization of Results "
   ]
  },
  {
   "cell_type": "code",
   "execution_count": 43,
   "id": "3b30497c-d3ed-41ce-905b-3f6e49efaef1",
   "metadata": {},
   "outputs": [
    {
     "data": {
      "image/png": "[encoded data removed]",
      "text/plain": [
       "<Figure size 1000x500 with 1 Axes>"
      ]
     },
     "metadata": {},
     "output_type": "display_data"
    },
    {
     "data": {
      "image/png": "[encoded data removed]",
      "text/plain": [
       "<Figure size 640x480 with 2 Axes>"
      ]
     },
     "metadata": {},
     "output_type": "display_data"
    },
    {
     "data": {
      "image/png": "[encoded data removed]",
      "text/plain": [
       "<Figure size 640x480 with 2 Axes>"
      ]
     },
     "metadata": {},
     "output_type": "display_data"
    }
   ],
   "source": [
    "# Visualization for Regression\n",
    "plt.figure(figsize=(10, 5))\n",
    "plt.scatter(y_test_housing, y_pred_lr, color='blue', label=\"Linear Regression\")\n",
    "plt.scatter(y_test_housing, y_pred_tree, color='red', label=\"Decision Tree\")\n",
    "plt.plot([y_test_housing.min(), y_test_housing.max()], [y_test_housing.min(), y_test_housing.max()], 'k--', lw=2)\n",
    "plt.xlabel(\"Actual Price\")\n",
    "plt.ylabel(\"Predicted Price\")\n",
    "plt.legend()\n",
    "plt.title(\"Regression Model Predictions vs Actual\")\n",
    "plt.show()\n",
    "\n",
    "# Visualization for Classification\n",
    "sns.heatmap(confusion_matrix(y_test_churn, y_pred_logistic), annot=True, fmt=\"d\", cmap=\"Blues\")\n",
    "plt.title(\"Confusion Matrix for Logistic Regression\")\n",
    "plt.show()\n",
    "\n",
    "sns.heatmap(confusion_matrix(y_test_churn, y_pred_svm), annot=True, fmt=\"d\", cmap=\"Greens\")\n",
    "plt.title(\"Confusion Matrix for SVM\")\n",
    "plt.show()\n"
   ]
  },
  {
   "cell_type": "markdown",
   "id": "05ab884b-1d2e-4aeb-b069-fdd8e3b82a8e",
   "metadata": {},
   "source": [
    "# 6. Report writing"
   ]
  },
  {
   "cell_type": "markdown",
   "id": "75b91115-97d1-458f-93c5-38fe5270bc52",
   "metadata": {},
   "source": [
    "This project applies machine learning techniques—specifically, regression and classification—to analyze two datasets: housing data for predicting house prices and churn data for predicting customer churn. Both datasets were sourced from Kaggle. The goal is to demonstrate and evaluate different predictive models for each dataset.\n"
   ]
  },
  {
   "cell_type": "markdown",
   "id": "ca5c03d2-7b7f-4eef-a749-cc8d2c338f13",
   "metadata": {},
   "source": [
    "# Findings and Conclusions\n",
    "\n",
    "For Housing Data: Linear regression performed better than the decision tree regressor, likely due to the relative simplicity of the relationship between features and house prices.\n",
    "\n",
    "For Churn Data: Logistic regression was effective, providing high accuracy and balance for predicting churn. SVM served as an additional model to verify the robustness of predictions, though logistic regression was preferable due to its simplicity and interpretability."
   ]
  },
  {
   "cell_type": "markdown",
   "id": "463b75e9-f164-4c76-8808-e2ed82db2596",
   "metadata": {},
   "source": [
    "# Implications\n",
    "\n",
    "Housing Price Predictions: Accurate models could assist real estate companies in assessing property values based on features, potentially improving pricing strategies and customer trust.\n",
    "\n",
    "Customer Churn Predictions: The churn model offers insights into factors affecting customer retention. Telecom companies, for example, could use this to implement targeted customer retention strategies, particularly by identifying customers likely to leave and addressing their issues preemptively."
   ]
  },
  {
   "cell_type": "markdown",
   "id": "ef119beb-c257-46f2-a104-6eead756f4a2",
   "metadata": {},
   "source": [
    "# References\n",
    "\n",
    "Datasets: Kaggle (Housing dataset, Churn dataset)\n",
    "\n",
    "Tools: Python libraries (Pandas, Scikit-Learn, Seaborn, Matplotlib)\n",
    "\n",
    "Methods: SMOTE for handling class imbalance, standard machine learning regression and classification techniques.\n",
    "\n",
    "GenAI Tool: OpenAI ChatGPT (used for report drafting and organizing insights)."
   ]
  },
  {
   "cell_type": "markdown",
   "id": "511fdfe5-0002-4220-b5c8-241f345ed814",
   "metadata": {},
   "source": [
    "# Reflection\n",
    "\n",
    "1. Challenges and Solutions\n",
    "\n",
    "Class Imbalance in Churn Data: The churn dataset was highly imbalanced, which could lead to biased predictions. Applying SMOTE helped to balance the classes by generating synthetic samples for the minority class, improving model performance.\n",
    "\n",
    "Model Complexity and Performance Trade-Offs: The decision tree regressor’s performance was lower due to overfitting on the training data. In contrast, linear regression, though simpler, produced better results.\n",
    "\n",
    "\n",
    "2. Insights Gained\n",
    "\n",
    "Feature Importance: The project highlighted the impact of different features on model accuracy. For instance, categorical features in the housing data required encoding, and scaling improved performance for logistic regression in churn prediction.\n",
    "\n",
    "Regression vs. Classification Techniques: Applying both regression and classification techniques provided a deeper understanding of model strengths. Simpler models, like linear regression and logistic regression, were effective in this context, suggesting that a straightforward approach is often sufficient when data relationships are not overly complex.\n"
   ]
  }
 ],
 "metadata": {
  "kernelspec": {
   "display_name": "Python 3 (ipykernel)",
   "language": "python",
   "name": "python3"
  },
  "language_info": {
   "codemirror_mode": {
    "name": "ipython",
    "version": 3
   },
   "file_extension": ".py",
   "mimetype": "text/x-python",
   "name": "python",
   "nbconvert_exporter": "python",
   "pygments_lexer": "ipython3",
   "version": "3.12.4"
  }
 },
 "nbformat": 4,
 "nbformat_minor": 5
}
